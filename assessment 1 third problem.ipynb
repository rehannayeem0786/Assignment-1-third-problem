{
 "cells": [
  {
   "cell_type": "code",
   "execution_count": 20,
   "id": "42aa74b9",
   "metadata": {},
   "outputs": [
    {
     "name": "stdout",
     "output_type": "stream",
     "text": [
      "enter tuple :(1,2,3,4,5,6,7,8,9)\n",
      "4\n",
      "5\n"
     ]
    }
   ],
   "source": [
    "x = eval(input(\"enter tuple :\"))\n",
    "count_odd = 0\n",
    "count_even = 0\n",
    "for i in x:\n",
    "    if i%2==0:\n",
    "        count_even+=1\n",
    "    else:\n",
    "        count_odd+=1\n",
    "print(count_even)\n",
    "print(count_odd)"
   ]
  },
  {
   "cell_type": "code",
   "execution_count": null,
   "id": "8cec44df",
   "metadata": {},
   "outputs": [],
   "source": []
  }
 ],
 "metadata": {
  "kernelspec": {
   "display_name": "Python 3 (ipykernel)",
   "language": "python",
   "name": "python3"
  },
  "language_info": {
   "codemirror_mode": {
    "name": "ipython",
    "version": 3
   },
   "file_extension": ".py",
   "mimetype": "text/x-python",
   "name": "python",
   "nbconvert_exporter": "python",
   "pygments_lexer": "ipython3",
   "version": "3.10.9"
  }
 },
 "nbformat": 4,
 "nbformat_minor": 5
}
